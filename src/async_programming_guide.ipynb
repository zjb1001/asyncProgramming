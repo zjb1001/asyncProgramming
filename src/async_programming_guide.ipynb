{
 "cells": [
  {
   "cell_type": "markdown",
   "metadata": {},
   "source": [
    "# Mastering Asynchronous Programming in Python\n",
    "\n",
    "This guide will help you understand and master async programming in Python, starting from the basics and progressing to advanced concepts.\n",
    "\n",
    "## Prerequisites\n",
    "- Basic Python knowledge\n",
    "- Python 3.7+ installed\n",
    "- Jupyter Notebook environment"
   ]
  },
  {
   "cell_type": "markdown",
   "metadata": {},
   "source": [
    "## 1. Core Concepts of Async Programming\n",
    "\n",
    "### 1.1 Coroutines\n",
    "Coroutines are the building blocks of async programming in Python. They are defined using the `async def` syntax."
   ]
  },
  {
   "cell_type": "code",
   "execution_count": 1,
   "metadata": {},
   "outputs": [
    {
     "name": "stdout",
     "output_type": "stream",
     "text": [
      "Starting\n",
      "Finished\n"
     ]
    }
   ],
   "source": [
    "import asyncio\n",
    "\n",
    "# Basic coroutine\n",
    "async def simple_coroutine():\n",
    "    print(\"Starting\")\n",
    "    await asyncio.sleep(1)  # Simulate some async operation\n",
    "    print(\"Finished\")\n",
    "\n",
    "# Run the coroutine\n",
    "await simple_coroutine()"
   ]
  },
  {
   "cell_type": "markdown",
   "metadata": {},
   "source": [
    "### 1.2 Understanding async/await\n",
    "\n",
    "- `async`: Declares a coroutine function\n",
    "- `await`: Pauses execution until an awaitable completes\n",
    "\n",
    "Key points:\n",
    "1. You can only use `await` inside `async` functions\n",
    "2. Coroutines don't run automatically - they must be awaited or scheduled"
   ]
  },
  {
   "cell_type": "code",
   "execution_count": 2,
   "metadata": {},
   "outputs": [
    {
     "name": "stdout",
     "output_type": "stream",
     "text": [
      "Fetching data...\n",
      "Processing {'data': 'example'}\n"
     ]
    }
   ],
   "source": [
    "# Example showing async/await usage\n",
    "async def fetch_data():\n",
    "    print(\"Fetching data...\")\n",
    "    await asyncio.sleep(2)  # Simulate network delay\n",
    "    return {\"data\": \"example\"}\n",
    "\n",
    "async def process_data():\n",
    "    data = await fetch_data()  # Wait for fetch_data to complete\n",
    "    print(f\"Processing {data}\")\n",
    "\n",
    "# Run the coroutine\n",
    "await process_data()"
   ]
  },
  {
   "cell_type": "markdown",
   "metadata": {},
   "source": [
    "### 1.3 Event Loop\n",
    "\n",
    "The event loop is the core of async programming. It:\n",
    "1. Manages and schedules coroutines\n",
    "2. Handles I/O operations\n",
    "3. Runs tasks concurrently"
   ]
  },
  {
   "cell_type": "code",
   "execution_count": 3,
   "metadata": {},
   "outputs": [
    {
     "name": "stdout",
     "output_type": "stream",
     "text": [
      "Fetching data...\n",
      "Fetching data...\n"
     ]
    }
   ],
   "source": [
    "# Working with the event loop\n",
    "async def main():\n",
    "    # Get the current event loop\n",
    "    loop = asyncio.get_event_loop()\n",
    "    \n",
    "    # Schedule multiple coroutines\n",
    "    task1 = loop.create_task(fetch_data())\n",
    "    task2 = loop.create_task(fetch_data())\n",
    "    \n",
    "    # Wait for both tasks to complete\n",
    "    await asyncio.gather(task1, task2)\n",
    "\n",
    "# Run in notebook\n",
    "await main()"
   ]
  },
  {
   "cell_type": "markdown",
   "metadata": {},
   "source": [
    "## 2. Task Management\n",
    "\n",
    "Tasks are used to schedule coroutines concurrently. They are crucial for running multiple operations at once."
   ]
  },
  {
   "cell_type": "code",
   "execution_count": null,
   "metadata": {},
   "outputs": [],
   "source": [
    "async def long_operation(name, seconds):\n",
    "    print(f\"Starting {name}\")\n",
    "    await asyncio.sleep(seconds)\n",
    "    print(f\"Finished {name}\")\n",
    "    return f\"{name} completed\"\n",
    "\n",
    "async def task_demo():\n",
    "    # Create tasks\n",
    "    task1 = asyncio.create_task(long_operation(\"Task 1\", 2))\n",
    "    task2 = asyncio.create_task(long_operation(\"Task 2\", 1))\n",
    "    \n",
    "    # Wait for both tasks\n",
    "    results = await asyncio.gather(task1, task2)\n",
    "    print(f\"Results: {results}\")\n",
    "\n",
    "await task_demo()"
   ]
  },
  {
   "cell_type": "markdown",
   "metadata": {},
   "source": [
    "### 2.1 Common Task Operations\n",
    "\n",
    "- Creating tasks\n",
    "- Cancelling tasks\n",
    "- Handling task results and exceptions"
   ]
  },
  {
   "cell_type": "code",
   "execution_count": null,
   "metadata": {},
   "outputs": [],
   "source": [
    "async def task_operations_demo():\n",
    "    # Create a task\n",
    "    task = asyncio.create_task(long_operation(\"Demo Task\", 3))\n",
    "    \n",
    "    # Check task status\n",
    "    print(f\"Task done? {task.done()}\")\n",
    "    \n",
    "    try:\n",
    "        # Wait for task with timeout\n",
    "        await asyncio.wait_for(task, timeout=2)\n",
    "    except asyncio.TimeoutError:\n",
    "        print(\"Task took too long, cancelling...\")\n",
    "        task.cancel()\n",
    "        try:\n",
    "            await task\n",
    "        except asyncio.CancelledError:\n",
    "            print(\"Task was cancelled\")\n",
    "\n",
    "await task_operations_demo()"
   ]
  },
  {
   "cell_type": "markdown",
   "metadata": {},
   "source": [
    "## 3. Error Handling in Async Code\n",
    "\n",
    "Proper error handling is crucial in async programming. Here's how to handle various scenarios:"
   ]
  },
  {
   "cell_type": "code",
   "execution_count": null,
   "metadata": {},
   "outputs": [],
   "source": [
    "async def might_fail(succeed=True):\n",
    "    await asyncio.sleep(1)\n",
    "    if not succeed:\n",
    "        raise ValueError(\"Operation failed!\")\n",
    "    return \"Success!\"\n",
    "\n",
    "async def error_handling_demo():\n",
    "    try:\n",
    "        # Basic error handling\n",
    "        result = await might_fail(succeed=False)\n",
    "    except ValueError as e:\n",
    "        print(f\"Caught error: {e}\")\n",
    "    \n",
    "    # Handling multiple concurrent tasks\n",
    "    tasks = [\n",
    "        might_fail(succeed=True),\n",
    "        might_fail(succeed=False)\n",
    "    ]\n",
    "    \n",
    "    # gather() with return_exceptions=True doesn't raise exceptions\n",
    "    results = await asyncio.gather(*tasks, return_exceptions=True)\n",
    "    \n",
    "    for i, result in enumerate(results):\n",
    "        if isinstance(result, Exception):\n",
    "            print(f\"Task {i} failed with: {result}\")\n",
    "        else:\n",
    "            print(f\"Task {i} succeeded with: {result}\")\n",
    "\n",
    "await error_handling_demo()"
   ]
  },
  {
   "cell_type": "markdown",
   "metadata": {},
   "source": [
    "### 3.1 Best Practices for Error Handling\n",
    "\n",
    "1. Always use try/except around await statements\n",
    "2. Handle specific exceptions rather than catching all\n",
    "3. Consider using return_exceptions=True with gather()\n",
    "4. Implement proper cleanup in finally blocks"
   ]
  },
  {
   "cell_type": "markdown",
   "metadata": {},
   "source": [
    "## 4. Async Context Managers\n",
    "\n",
    "Async context managers are useful for resource management in async code. They use `async with` syntax."
   ]
  },
  {
   "cell_type": "code",
   "execution_count": null,
   "metadata": {},
   "outputs": [],
   "source": [
    "class AsyncResource:\n",
    "    async def __aenter__(self):\n",
    "        print(\"Acquiring resource\")\n",
    "        await asyncio.sleep(1)  # Simulate resource acquisition\n",
    "        return self\n",
    "    \n",
    "    async def __aexit__(self, exc_type, exc_val, exc_tb):\n",
    "        print(\"Releasing resource\")\n",
    "        await asyncio.sleep(0.5)  # Simulate cleanup\n",
    "    \n",
    "    async def work(self):\n",
    "        print(\"Using resource\")\n",
    "        await asyncio.sleep(1)\n",
    "\n",
    "async def context_manager_demo():\n",
    "    async with AsyncResource() as resource:\n",
    "        await resource.work()\n",
    "    print(\"Resource has been released\")\n",
    "\n",
    "await context_manager_demo()"
   ]
  },
  {
   "cell_type": "markdown",
   "metadata": {},
   "source": [
    "### 4.1 Real-world Example: Database Connection\n",
    "\n",
    "Here's how you might use an async context manager with a database:"
   ]
  },
  {
   "cell_type": "code",
   "execution_count": null,
   "metadata": {},
   "outputs": [],
   "source": [
    "class AsyncDatabase:\n",
    "    async def __aenter__(self):\n",
    "        self.conn = await self.connect()\n",
    "        return self\n",
    "    \n",
    "    async def __aexit__(self, exc_type, exc_val, exc_tb):\n",
    "        await self.conn.close()\n",
    "    \n",
    "    async def connect(self):\n",
    "        await asyncio.sleep(1)  # Simulate connection\n",
    "        return self\n",
    "    \n",
    "    async def query(self, sql):\n",
    "        await asyncio.sleep(0.5)  # Simulate query\n",
    "        return [\"result1\", \"result2\"]\n",
    "\n",
    "async def database_demo():\n",
    "    async with AsyncDatabase() as db:\n",
    "        results = await db.query(\"SELECT * FROM table\")\n",
    "        print(f\"Query results: {results}\")\n",
    "\n",
    "await database_demo()"
   ]
  },
  {
   "cell_type": "markdown",
   "metadata": {},
   "source": [
    "## 5. Async Iterators and Generators\n",
    "\n",
    "Async iterators allow you to iterate over data that's retrieved asynchronously."
   ]
  },
  {
   "cell_type": "code",
   "execution_count": null,
   "metadata": {},
   "outputs": [],
   "source": [
    "class AsyncDataStream:\n",
    "    def __init__(self, start, end):\n",
    "        self.start = start\n",
    "        self.end = end\n",
    "        self.current = start\n",
    "    \n",
    "    def __aiter__(self):\n",
    "        return self\n",
    "    \n",
    "    async def __anext__(self):\n",
    "        if self.current < self.end:\n",
    "            await asyncio.sleep(0.5)  # Simulate delay\n",
    "            result = self.current\n",
    "            self.current += 1\n",
    "            return result\n",
    "        raise StopAsyncIteration\n",
    "\n",
    "async def iterator_demo():\n",
    "    # Using async for\n",
    "    async for num in AsyncDataStream(1, 4):\n",
    "        print(f\"Got number: {num}\")\n",
    "\n",
    "await iterator_demo()"
   ]
  },
  {
   "cell_type": "markdown",
   "metadata": {},
   "source": [
    "### 5.1 Async Generators\n",
    "\n",
    "Async generators use `async def` with `yield` to create async iterators more easily."
   ]
  },
  {
   "cell_type": "code",
   "execution_count": null,
   "metadata": {},
   "outputs": [],
   "source": [
    "async def async_range(start, end):\n",
    "    for i in range(start, end):\n",
    "        await asyncio.sleep(0.5)  # Simulate delay\n",
    "        yield i\n",
    "\n",
    "async def generator_demo():\n",
    "    # Using async generator\n",
    "    async for num in async_range(1, 4):\n",
    "        print(f\"Generated: {num}\")\n",
    "    \n",
    "    # Collecting all results\n",
    "    results = [num async for num in async_range(5, 8)]\n",
    "    print(f\"Collected: {results}\")\n",
    "\n",
    "await generator_demo()"
   ]
  },
  {
   "cell_type": "markdown",
   "metadata": {},
   "source": [
    "## 6. Real-world Examples\n",
    "\n",
    "### 6.1 Web Requests with aiohttp\n",
    "\n",
    "Here's how to make concurrent HTTP requests using aiohttp:"
   ]
  },
  {
   "cell_type": "code",
   "execution_count": null,
   "metadata": {},
   "outputs": [],
   "source": [
    "import aiohttp\n",
    "\n",
    "async def fetch_url(session, url):\n",
    "    async with session.get(url) as response:\n",
    "        return await response.text()\n",
    "\n",
    "async def fetch_multiple_urls():\n",
    "    urls = [\n",
    "        'http://example.com',\n",
    "        'http://example.org',\n",
    "        'http://example.net'\n",
    "    ]\n",
    "    \n",
    "    async with aiohttp.ClientSession() as session:\n",
    "        tasks = [fetch_url(session, url) for url in urls]\n",
    "        results = await asyncio.gather(*tasks)\n",
    "        \n",
    "        for url, html in zip(urls, results):\n",
    "            print(f\"Fetched {len(html)} bytes from {url}\")\n",
    "\n",
    "# Note: This cell requires aiohttp package\n",
    "# !pip install aiohttp\n",
    "# await fetch_multiple_urls()"
   ]
  },
  {
   "cell_type": "markdown",
   "metadata": {},
   "source": [
    "### 6.2 Implementing an Async API Server\n",
    "\n",
    "Here's a simple async API server using aiohttp:"
   ]
  },
  {
   "cell_type": "code",
   "execution_count": null,
   "metadata": {},
   "outputs": [],
   "source": [
    "from aiohttp import web\n",
    "\n",
    "async def handle_get(request):\n",
    "    await asyncio.sleep(0.1)  # Simulate processing\n",
    "    return web.json_response({\"status\": \"ok\"})\n",
    "\n",
    "async def init_app():\n",
    "    app = web.Application()\n",
    "    app.router.add_get(\"/api/status\", handle_get)\n",
    "    return app\n",
    "\n",
    "# To run the server:\n",
    "# web.run_app(init_app())\n",
    "\n",
    "# Note: This code needs to be run in a regular Python file, not in Jupyter"
   ]
  },
  {
   "cell_type": "markdown",
   "metadata": {},
   "source": [
    "## 7. Performance Tips and Monitoring\n",
    "\n",
    "### 7.1 Performance Best Practices"
   ]
  },
  {
   "cell_type": "code",
   "execution_count": null,
   "metadata": {},
   "outputs": [],
   "source": [
    "async def demo_performance_patterns():\n",
    "    # 1. Batch operations when possible\n",
    "    async def process_batch(items):\n",
    "        await asyncio.sleep(1)  # Simulate batch processing\n",
    "        return [f\"processed_{item}\" for item in items]\n",
    "    \n",
    "    items = list(range(100))\n",
    "    batch_size = 10\n",
    "    \n",
    "    # Process in batches\n",
    "    for i in range(0, len(items), batch_size):\n",
    "        batch = items[i:i + batch_size]\n",
    "        results = await process_batch(batch)\n",
    "        print(f\"Processed batch of {len(results)} items\")\n",
    "    \n",
    "    # 2. Use asyncio.gather for concurrent operations\n",
    "    async def parallel_operation(x):\n",
    "        await asyncio.sleep(0.1)\n",
    "        return x * 2\n",
    "    \n",
    "    tasks = [parallel_operation(x) for x in range(5)]\n",
    "    results = await asyncio.gather(*tasks)\n",
    "    print(f\"Parallel results: {results}\")\n",
    "\n",
    "await demo_performance_patterns()"
   ]
  },
  {
   "cell_type": "markdown",
   "metadata": {},
   "source": [
    "### 7.2 Monitoring and Debugging\n",
    "\n",
    "Here's how to monitor async applications:"
   ]
  },
  {
   "cell_type": "code",
   "execution_count": null,
   "metadata": {},
   "outputs": [],
   "source": [
    "import time\n",
    "import functools\n",
    "\n",
    "def async_timer(func):\n",
    "    @functools.wraps(func)\n",
    "    async def wrapper(*args, **kwargs):\n",
    "        start = time.time()\n",
    "        result = await func(*args, **kwargs)\n",
    "        end = time.time()\n",
    "        print(f\"{func.__name__} took {end - start:.2f} seconds\")\n",
    "        return result\n",
    "    return wrapper\n",
    "\n",
    "@async_timer\n",
    "async def monitored_operation():\n",
    "    await asyncio.sleep(1)\n",
    "    return \"done\"\n",
    "\n",
    "# Enable debug mode\n",
    "asyncio.get_event_loop().set_debug(True)\n",
    "\n",
    "await monitored_operation()"
   ]
  },
  {
   "cell_type": "markdown",
   "metadata": {},
   "source": [
    "## 8. Common Pitfalls and Solutions\n",
    "\n",
    "1. **Mixing sync and async code**\n",
    "   - Always use async versions of libraries when available\n",
    "   - Use `asyncio.to_thread()` for CPU-bound tasks\n",
    "   \n",
    "2. **Blocking the event loop**\n",
    "   - Avoid time.sleep() - use asyncio.sleep()\n",
    "   - Don't perform CPU-intensive operations directly\n",
    "   \n",
    "3. **Task management**\n",
    "   - Always await or cancel tasks\n",
    "   - Use proper exception handling\n",
    "   \n",
    "4. **Resource cleanup**\n",
    "   - Use async context managers\n",
    "   - Implement proper cleanup in __aexit__"
   ]
  }
 ],
 "metadata": {
  "kernelspec": {
   "display_name": "auto-coder",
   "language": "python",
   "name": "python3"
  },
  "language_info": {
   "codemirror_mode": {
    "name": "ipython",
    "version": 3
   },
   "file_extension": ".py",
   "mimetype": "text/x-python",
   "name": "python",
   "nbconvert_exporter": "python",
   "pygments_lexer": "ipython3",
   "version": "3.10.12"
  }
 },
 "nbformat": 4,
 "nbformat_minor": 4
}
