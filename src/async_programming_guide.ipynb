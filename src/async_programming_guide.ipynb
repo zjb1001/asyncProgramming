  },
  {
   "cell_type": "markdown",
   "metadata": {},
   "source": [
    "## 7. Performance Tips and Monitoring\n",
    "\n",
    "### 7.1 Performance Best Practices"
   ]
  },
  {
   "cell_type": "code",
   "execution_count": null,
   "metadata": {},
   "outputs": [],
   "source": [
    "async def demo_performance_patterns():\n",
    "    # 1. Batch operations when possible\n",
    "    async def process_batch(items):\n",
    "        await asyncio.sleep(1)  # Simulate batch processing\n",
    "        return [f\"processed_{item}\" for item in items]\n",
    "    \n",
    "    items = list(range(100))\n",
    "    batch_size = 10\n",
    "    \n",
    "    # Process in batches\n",
    "    for i in range(0, len(items), batch_size):\n",
    "        batch = items[i:i + batch_size]\n",
    "        results = await process_batch(batch)\n",
    "        print(f\"Processed batch of {len(results)} items\")\n",
    "    \n",
    "    # 2. Use asyncio.gather for concurrent operations\n",
    "    async def parallel_operation(x):\n",
    "        await asyncio.sleep(0.1)\n",
    "        return x * 2\n",
    "    \n",
    "    tasks = [parallel_operation(x) for x in range(5)]\n",
    "    results = await asyncio.gather(*tasks)\n",
    "    print(f\"Parallel results: {results}\")\n",
    "\n",
    "await demo_performance_patterns()"
   ]
  },
  {
   "cell_type": "markdown",
   "metadata": {},
   "source": [
    "### 7.2 Monitoring and Debugging\n",
    "\n",
    "Here's how to monitor async applications:"
   ]
  },
  {
   "cell_type": "code",
   "execution_count": null,
   "metadata": {},
   "outputs": [],
   "source": [
    "import time\n",
    "import functools\n",
    "\n",
    "def async_timer(func):\n",
    "    @functools.wraps(func)\n",
    "    async def wrapper(*args, **kwargs):\n",
    "        start = time.time()\n",
    "        result = await func(*args, **kwargs)\n",
    "        end = time.time()\n",
    "        print(f\"{func.__name__} took {end - start:.2f} seconds\")\n",
    "        return result\n",
    "    return wrapper\n",
    "\n",
    "@async_timer\n",
    "async def monitored_operation():\n",
    "    await asyncio.sleep(1)\n",
    "    return \"done\"\n",
    "\n",
    "# Enable debug mode\n",
    "asyncio.get_event_loop().set_debug(True)\n",
    "\n",
    "await monitored_operation()"
   ]
  },
  {
   "cell_type": "markdown",
   "metadata": {},
   "source": [
    "## 8. Common Pitfalls and Solutions\n",
    "\n",
    "1. **Mixing sync and async code**\n",
    "   - Always use async versions of libraries when available\n",
    "   - Use `asyncio.to_thread()` for CPU-bound tasks\n",
    "   \n",
    "2. **Blocking the event loop**\n",
    "   - Avoid time.sleep() - use asyncio.sleep()\n",
    "   - Don't perform CPU-intensive operations directly\n",
    "   \n",
    "3. **Task management**\n",
    "   - Always await or cancel tasks\n",
    "   - Use proper exception handling\n",
    "   \n",
    "4. **Resource cleanup**\n",
    "   - Use async context managers\n",
    "   - Implement proper cleanup in __aexit__"
   ]
  }
 ],
 "metadata": {